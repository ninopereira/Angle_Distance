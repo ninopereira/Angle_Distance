{
 "cells": [
  {
   "cell_type": "code",
   "execution_count": 2,
   "metadata": {
    "collapsed": false
   },
   "outputs": [],
   "source": [
    "#importing some useful packages\n",
    "import numpy as np\n",
    "#import math\n",
    "from numpy.random import rand"
   ]
  },
  {
   "cell_type": "code",
   "execution_count": 3,
   "metadata": {
    "collapsed": true
   },
   "outputs": [],
   "source": [
    "# angles should be between 0 and 360 degrees\n",
    "def angle_diff1(angle1, angle2):\n",
    "    if (angle1 < angle2):\n",
    "       smaller = angle1\n",
    "       bigger = angle2\n",
    "    else:\n",
    "        smaller = angle2\n",
    "        bigger = angle1\n",
    "    hipothesis1 = (bigger-smaller)\n",
    "    hipothesis2 = ((smaller+360)-bigger)\n",
    "    return min(hipothesis1, hipothesis2)"
   ]
  },
  {
   "cell_type": "code",
   "execution_count": 4,
   "metadata": {
    "collapsed": false
   },
   "outputs": [],
   "source": [
    "# simplified version\n",
    "def angle_diff2(angle1, angle2):\n",
    "    a = angle1 - angle2\n",
    "    a = (a + 180) % 360 - 180\n",
    "    # note if you want signed difference the just return a\n",
    "    return abs(a)"
   ]
  },
  {
   "cell_type": "code",
   "execution_count": 5,
   "metadata": {
    "collapsed": false
   },
   "outputs": [
    {
     "name": "stdout",
     "output_type": "stream",
     "text": [
      "Method 1 Tests Passed\n",
      "Method 2 Tests Passed\n"
     ]
    }
   ],
   "source": [
    "# Test method1\n",
    "assert (angle_diff1(10,30)==20)\n",
    "assert (angle_diff1(80,130)==50)\n",
    "assert (angle_diff1(10,230)==140)\n",
    "assert (angle_diff1(230,10)==140)\n",
    "assert (angle_diff1(350,10)==20)\n",
    "assert (angle_diff1(10,350)==20)\n",
    "print (\"Method 1 Tests Passed\")\n",
    "\n",
    "# Test method2\n",
    "assert (angle_diff2(10,30)==20)\n",
    "assert (angle_diff2(80,130)==50)\n",
    "assert (angle_diff2(10,230)==140)\n",
    "assert (angle_diff2(230,10)==140)\n",
    "assert (angle_diff2(350,10)==20)\n",
    "assert (angle_diff2(10,350)==20)\n",
    "print (\"Method 2 Tests Passed\")"
   ]
  },
  {
   "cell_type": "code",
   "execution_count": 7,
   "metadata": {
    "collapsed": false
   },
   "outputs": [
    {
     "name": "stdout",
     "output_type": "stream",
     "text": [
      "Random Examples:\n",
      "\n",
      "1 diff( 142.764954725 , 16.9660922397 ) = 125.798862485\n",
      "2 diff( 142.764954725 , 16.9660922397 ) = 125.798862485 \n",
      "\n",
      "1 diff( 116.10605428 , 18.1318436523 ) = 97.9742106276\n",
      "2 diff( 116.10605428 , 18.1318436523 ) = 97.9742106276 \n",
      "\n",
      "1 diff( 147.436171839 , 359.297857659 ) = 148.13831418\n",
      "2 diff( 147.436171839 , 359.297857659 ) = 148.13831418 \n",
      "\n",
      "1 diff( 23.4599463067 , 68.0175171066 ) = 44.5575707999\n",
      "2 diff( 23.4599463067 , 68.0175171066 ) = 44.5575707999 \n",
      "\n",
      "1 diff( 354.160017763 , 116.054746707 ) = 121.894728944\n",
      "2 diff( 354.160017763 , 116.054746707 ) = 121.894728944 \n",
      "\n",
      "1 diff( 156.889113301 , 341.702413641 ) = 175.18669966\n",
      "2 diff( 156.889113301 , 341.702413641 ) = 175.18669966 \n",
      "\n",
      "1 diff( 191.821075075 , 141.589091068 ) = 50.2319840073\n",
      "2 diff( 191.821075075 , 141.589091068 ) = 50.2319840073 \n",
      "\n",
      "1 diff( 248.691557561 , 123.137777174 ) = 125.553780387\n",
      "2 diff( 248.691557561 , 123.137777174 ) = 125.553780387 \n",
      "\n",
      "1 diff( 150.71967223 , 262.606307322 ) = 111.886635091\n",
      "2 diff( 150.71967223 , 262.606307322 ) = 111.886635091 \n",
      "\n",
      "1 diff( 113.923967076 , 26.5640432685 ) = 87.3599238076\n",
      "2 diff( 113.923967076 , 26.5640432685 ) = 87.3599238076 \n",
      "\n",
      "1 diff( 172.552770125 , 15.6926093471 ) = 156.860160778\n",
      "2 diff( 172.552770125 , 15.6926093471 ) = 156.860160778 \n",
      "\n",
      "1 diff( 79.5168709762 , 141.035973834 ) = 61.5191028577\n",
      "2 diff( 79.5168709762 , 141.035973834 ) = 61.5191028577 \n",
      "\n",
      "1 diff( 327.372390256 , 17.5589068339 ) = 50.1865165779\n",
      "2 diff( 327.372390256 , 17.5589068339 ) = 50.1865165779 \n",
      "\n",
      "1 diff( 357.663158247 , 18.4954707888 ) = 20.8323125421\n",
      "2 diff( 357.663158247 , 18.4954707888 ) = 20.8323125421 \n",
      "\n",
      "1 diff( 109.798695406 , 168.869361639 ) = 59.0706662331\n",
      "2 diff( 109.798695406 , 168.869361639 ) = 59.0706662331 \n",
      "\n",
      "1 diff( 124.470875223 , 173.052869638 ) = 48.5819944151\n",
      "2 diff( 124.470875223 , 173.052869638 ) = 48.5819944151 \n",
      "\n",
      "1 diff( 179.04296713 , 262.759135469 ) = 83.7161683393\n",
      "2 diff( 179.04296713 , 262.759135469 ) = 83.7161683393 \n",
      "\n",
      "1 diff( 141.906840982 , 187.424560248 ) = 45.5177192665\n",
      "2 diff( 141.906840982 , 187.424560248 ) = 45.5177192665 \n",
      "\n",
      "1 diff( 269.760739352 , 270.001280319 ) = 0.24054096684\n",
      "2 diff( 269.760739352 , 270.001280319 ) = 0.24054096684 \n",
      "\n",
      "1 diff( 66.5011510768 , 156.330940693 ) = 89.8297896162\n",
      "2 diff( 66.5011510768 , 156.330940693 ) = 89.8297896162 \n",
      "\n"
     ]
    }
   ],
   "source": [
    "# Random Examples\n",
    "print(\"Random Examples:\\n\")\n",
    "num_elements = 20\n",
    "x=(36*rand(num_elements))\n",
    "y=(36*rand(num_elements))\n",
    "for i in range(num_elements):\n",
    "    print(\"1 diff(\",(x[i])*10,\",\",(y[i])*10,\") =\",angle_diff1((x[i])*10,(y[i])*10))\n",
    "    print(\"2 diff(\",(x[i])*10,\",\",(y[i])*10,\") =\",angle_diff2((x[i])*10,(y[i])*10),\"\\n\")"
   ]
  },
  {
   "cell_type": "code",
   "execution_count": null,
   "metadata": {
    "collapsed": true
   },
   "outputs": [],
   "source": []
  }
 ],
 "metadata": {
  "anaconda-cloud": {},
  "kernelspec": {
   "display_name": "Python [conda env:carnd-term1]",
   "language": "python",
   "name": "conda-env-carnd-term1-py"
  },
  "language_info": {
   "codemirror_mode": {
    "name": "ipython",
    "version": 3
   },
   "file_extension": ".py",
   "mimetype": "text/x-python",
   "name": "python",
   "nbconvert_exporter": "python",
   "pygments_lexer": "ipython3",
   "version": "3.5.2"
  }
 },
 "nbformat": 4,
 "nbformat_minor": 1
}
